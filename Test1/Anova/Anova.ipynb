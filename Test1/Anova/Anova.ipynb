{
 "cells": [
  {
   "cell_type": "code",
   "execution_count": null,
   "metadata": {},
   "outputs": [],
   "source": [
    "pip install scipy statsmodels"
   ]
  },
  {
   "cell_type": "code",
   "execution_count": 2,
   "metadata": {
    "metadata": {}
   },
   "outputs": [],
   "source": [
    "import csv\n",
    "import numpy as np\n",
    "import pandas as pd\n",
    "import scipy.stats as st"
   ]
  },
  {
   "cell_type": "code",
   "execution_count": 3,
   "metadata": {
    "metadata": {}
   },
   "outputs": [],
   "source": [
    "file_path = '/home/corn/Documents/ScienceFair/Test1/TatalData.csv'\n",
    "save_file = '/home/corn/Documents/ScienceFair/Test1/Anova/'"
   ]
  },
  {
   "cell_type": "code",
   "execution_count": 4,
   "metadata": {},
   "outputs": [],
   "source": [
    "def rd(number): # round\n",
    "    if abs(number) < 1e-3:\n",
    "        return f\"{number:.2e}\"\n",
    "    else:\n",
    "        return f\"{number:.4f}\""
   ]
  },
  {
   "cell_type": "code",
   "execution_count": 5,
   "metadata": {
    "metadata": {}
   },
   "outputs": [],
   "source": [
    "# Weight : 4 , Max_pressure : 6 , Max_deformation : 7 , Young : 8\n",
    "\n",
    "data = pd.read_csv(file_path, header=None)\n",
    "infill_type = list(data.iloc[:, 0].unique())\n",
    "\n",
    "weight, yield_stress, yield_strain, young = [], [], [], []\n",
    "\n",
    "for i in infill_type:\n",
    "\n",
    "    current_data = data[data.iloc[:, 0] == i]\n",
    "\n",
    "    weight.append(current_data.iloc[:, 4].tolist())\n",
    "    yield_stress.append(current_data.iloc[:, 6].tolist())\n",
    "    yield_strain.append(current_data.iloc[:, 7].tolist())\n",
    "    young.append(current_data.iloc[:, 8].tolist())\n",
    "\n",
    "datas = [weight, yield_stress, yield_strain, young]\n",
    "datas_type = [\"weight\", \"yield_stress\", \"yield_strain\", \"young\"]"
   ]
  },
  {
   "cell_type": "markdown",
   "metadata": {},
   "source": [
    "Shapiro test"
   ]
  },
  {
   "cell_type": "code",
   "execution_count": null,
   "metadata": {
    "metadata": {}
   },
   "outputs": [],
   "source": [
    "save_path = save_file+'result-shapiro.csv'\n",
    "\n",
    "with open(save_path, 'w', newline='') as csvfile:\n",
    "\n",
    "    spamwriter = csv.writer(csvfile, delimiter=',')\n",
    "    spamwriter.writerow([\"infill\",\"weight\", \"yield_stress\", \"yield_strain\", \"young\"])\n",
    "\n",
    "    for i in range(len(infill_type)):\n",
    "\n",
    "        row_data = [infill_type[i]] + [rd(st.shapiro(data[i])[1]) for data in datas]\n",
    "        spamwriter.writerow(row_data)"
   ]
  },
  {
   "cell_type": "markdown",
   "metadata": {},
   "source": [
    "Levene test"
   ]
  },
  {
   "cell_type": "code",
   "execution_count": 7,
   "metadata": {},
   "outputs": [],
   "source": [
    "save_path = save_file+'result-levene.csv'\n",
    "\n",
    "with open(save_path, 'w', newline='') as csvfile:\n",
    "\n",
    "    spamwriter = csv.writer(csvfile, delimiter=',')\n",
    "    spamwriter.writerow([\"Type\", \"Statistic\", \"P_value\"])\n",
    "\n",
    "    for i, data in enumerate(datas):\n",
    "        s, p = st.levene(*data)\n",
    "        row_data = [datas_type[i], rd(s), rd(p)]\n",
    "        spamwriter.writerow(row_data)"
   ]
  },
  {
   "cell_type": "markdown",
   "metadata": {},
   "source": [
    "Anova test"
   ]
  },
  {
   "cell_type": "code",
   "execution_count": 8,
   "metadata": {},
   "outputs": [],
   "source": [
    "save_path = save_file+'result-anova.csv'\n",
    "\n",
    "with open(save_path, 'w', newline='') as csvfile:\n",
    "\n",
    "    spamwriter = csv.writer(csvfile, delimiter=',')\n",
    "    spamwriter.writerow([\"Type\", \"Statistic\", \"P_value\"])\n",
    "\n",
    "    for i, data in enumerate(datas):\n",
    "        s, p = st.f_oneway(*data)\n",
    "        row_data = [datas_type[i], rd(s), rd(p)]\n",
    "        spamwriter.writerow(row_data)"
   ]
  },
  {
   "cell_type": "markdown",
   "metadata": {},
   "source": [
    "Tukey HSD test"
   ]
  },
  {
   "cell_type": "code",
   "execution_count": 39,
   "metadata": {},
   "outputs": [],
   "source": [
    "save_path = save_file+'result-tukey.csv'\n",
    "\n",
    "with open(save_path, 'w') as csvfile:\n",
    "\n",
    "    spamwriter = csv.writer(csvfile, delimiter=',')\n",
    "\n",
    "    for i, data in enumerate(datas):\n",
    "\n",
    "        spamwriter.writerow([datas_type[i]])\n",
    "        spamwriter.writerow('')\n",
    "        spamwriter.writerow(range(len(data)))\n",
    "\n",
    "        result = st.tukey_hsd(*data)\n",
    "\n",
    "        for i in result.pvalue:\n",
    "\n",
    "            spamwriter.writerow(map(rd, i))\n",
    "        \n",
    "        spamwriter.writerow('')\n"
   ]
  }
 ],
 "metadata": {
  "kernelspec": {
   "display_name": "Python 3",
   "language": "python",
   "name": "python3"
  },
  "language_info": {
   "codemirror_mode": {
    "name": "ipython",
    "version": 3
   },
   "file_extension": ".py",
   "mimetype": "text/x-python",
   "name": "python",
   "nbconvert_exporter": "python",
   "pygments_lexer": "ipython3",
   "version": "3.10.12"
  }
 },
 "nbformat": 4,
 "nbformat_minor": 2
}
